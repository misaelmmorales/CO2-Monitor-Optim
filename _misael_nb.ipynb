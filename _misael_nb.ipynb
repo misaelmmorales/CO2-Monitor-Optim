{
 "cells": [
  {
   "cell_type": "code",
   "execution_count": 2,
   "metadata": {},
   "outputs": [
    {
     "name": "stdout",
     "output_type": "stream",
     "text": [
      "Checking Tensorflow Version:\n",
      "Tensorflow built with CUDA? True\n",
      "Tensorflow version: 2.6.2\n",
      "# GPU available: 1\n",
      "CUDA: 64_112 | cuDNN: 64_8\n",
      "[PhysicalDevice(name='/physical_device:CPU:0', device_type='CPU'), PhysicalDevice(name='/physical_device:GPU:0', device_type='GPU')]\n"
     ]
    }
   ],
   "source": [
    "from Uncertainty import *\n",
    "from uncertaintyMetric import *\n",
    "from utils import *\n",
    "\n",
    "from geneticalgorithm import geneticalgorithm as ga\n",
    "import scipy.optimize as opt\n",
    "\n",
    "K.clear_session()\n",
    "check_tensorflow_gpu()"
   ]
  },
  {
   "cell_type": "code",
   "execution_count": null,
   "metadata": {},
   "outputs": [],
   "source": [
    "def fopt(obj):\n",
    "    res = proxy(ncol_data=int(obj[0]), measure_type=int(obj[1]),\n",
    "                rom_obj=Ridge(), rom_data=Ridge(), \n",
    "                nMCSamples=750, nDataRealization=25, verbose=False)\n",
    "    return res.value\n",
    "\n",
    "varbound = np.array([[2,49],[1,4]])\n",
    "\n",
    "alg_params = {'max_num_iteration':50,\n",
    "              'population_size':5,\n",
    "              'mutation_probability':0.33,\n",
    "              'elit_ratio':0.05,\n",
    "              'crossover_probability':0.5,\n",
    "              'parents_portion':0.2,\n",
    "              'crossover_type':'uniform',\n",
    "              'max_iteration_without_improv':5}\n",
    "\n",
    "model = ga(function             = fopt, \n",
    "           dimension            = 2, \n",
    "           variable_type        = 'int', \n",
    "           variable_boundaries  = varbound,\n",
    "           algorithm_parameters = alg_params)\n",
    "\n",
    "model.run()"
   ]
  },
  {
   "cell_type": "code",
   "execution_count": 26,
   "metadata": {},
   "outputs": [
    {
     "name": "stdout",
     "output_type": "stream",
     "text": [
      "Measure Type: 2 | Data File Name: run_co2sl.his | Description: CO2 Saturation (l) | nColData: [7] | HM-epsilon: 0.05\n",
      "Measure Type: 2 | Data File Name: run_co2sl.his | Description: CO2 Saturation (l) | nColData: [8] | HM-epsilon: 0.05\n",
      "Measure Type: 3 | Data File Name: run_temp.his | Description: Temperature | nColData: [7] | HM-epsilon: 0.002\n",
      "     fun: 2.9802322387695312e-08\n",
      "     jac: array([0., 0.])\n",
      " message: 'Optimization terminated successfully'\n",
      "    nfev: 3\n",
      "     nit: 1\n",
      "    njev: 1\n",
      "  status: 0\n",
      " success: True\n",
      "       x: array([7., 2.])\n"
     ]
    }
   ],
   "source": [
    "def fopt(obj):\n",
    "    c, m = np.ceil(obj[0]), np.ceil(obj[1])\n",
    "    res = proxy(ncol_data=int(c), measure_type=int(m),\n",
    "                rom_obj=LinearRegression(), rom_data=LinearRegression(), \n",
    "                nMCSamples=2000, nDataRealization=80, verbose=False)\n",
    "    return res.value\n",
    "\n",
    "res = opt.minimize(fopt, [7, 2], method='SLSQP', options={'eps':1e-5})\n",
    "print(res)"
   ]
  },
  {
   "cell_type": "code",
   "execution_count": null,
   "metadata": {},
   "outputs": [],
   "source": []
  },
  {
   "attachments": {},
   "cell_type": "markdown",
   "metadata": {},
   "source": [
    "***"
   ]
  },
  {
   "cell_type": "code",
   "execution_count": null,
   "metadata": {},
   "outputs": [],
   "source": [
    "# General settings\n",
    "Main_Directory   = os.getcwd()\n",
    "Data_Directory   = os.path.join(Main_Directory, 'data')\n",
    "titles           = ['.', 'Pressure', 'CO2 Saturation (l)', 'Temperature', 'Pressure + CO2 Saturation']\n",
    "unc_params       = ['perm4', 'perm5', 'perm6', 'kmult']\n",
    "\n",
    "MeasureType      = 1                           # Measurement type: 1 for pressure; 2 for CO2 saturation; 3 for tempeture, 4 for pressure+CO2 saturation                     \n",
    "Total_time       = 1800                        # Total injection and post-injection time (days)\n",
    "nTimeSeries      = 60                          # The number of measurement time series\n",
    "nInterval        = 1                           # Measurement interval, default value = 1/Month\n",
    "\n",
    "nTrain           = 500                         # The number of training simulations\n",
    "Obj_filename     = 'run_co2mt.his'             # Objective file name\n",
    "nColumn_obj      = 50                          # The column(s) in which the object of interest is located\n",
    "nColumn_data     = [7]    #[7]                 # The column in which the data measurement is located \n",
    "\n",
    "x_max            = [1e-14, 1e-14, 1e-14, 2.0]  # Upper bounds for all the uncertain parameters\n",
    "x_min            = [1e-19, 1e-19, 1e-19, 0.5]  # Lower bounds for all the uncertain parameters\n",
    "ROMs_validation  = 0                           # ROMs cross-validation flag\n",
    "nMCSamples       = 10000  #100000              # Number of monte carlo samples\n",
    "nParam           = 4                           # Number of uncertain parameters\n",
    "nDataRealization = 100    #200                 # Number of data realizations\n",
    "err_option       = 3                           # Type of err option (2=MeanAE, 3=MaxAE)\n",
    "time_sensitivity = 1                           # Whether consider time sensitivity for UR flag\n",
    "post_processing  = 1                           # Plotting flag\n",
    "print('Current Working Directory: {}'.format(Main_Directory))\n",
    "print('Data Directory: {}'.format(Data_Directory))\n",
    "\n",
    "## Step 1: Perfrom training simulation\n",
    "# This step is done in a seperate code.\n",
    "\n",
    "roms = [Ridge(), Ridge()]"
   ]
  },
  {
   "cell_type": "code",
   "execution_count": null,
   "metadata": {},
   "outputs": [],
   "source": [
    "## Step 2: Read-in training simulation results\n",
    "training_data, raw_data, parameters = read_train_sim_results(Data_Directory, MeasureType, Obj_filename, nColumn_obj, Total_time, nTimeSeries,\n",
    "                                                                nColumn_data, nInterval, nTrain, nParam, x_min, x_max, titles)\n",
    "#unpack variables\n",
    "data_train, x_train, x_train_scaled, y_train, y_train_scaled = training_data\n",
    "data_train_read_raw, data_train_read_raw0                    = raw_data\n",
    "eps, nData, time_point                                       = parameters\n",
    "\n",
    "plot_train_data(data_train, x_train_scaled, y_train_scaled, titles, MeasureType, Obj_filename, unc_params)"
   ]
  },
  {
   "cell_type": "code",
   "execution_count": null,
   "metadata": {},
   "outputs": [],
   "source": [
    "## Step 3: 10-fold cross-validation of ROMs (iff ROMS_validation=1)\n",
    "## Step 4: Construct the Mars ROMs for data and response of interest\n",
    "ROM_data, ROM_obj = rom_validation(ROMs_validation, Ridge(), Ridge(), x_train_scaled, y_train, data_train, nTrain, nData, data_train_read_raw, NN=False)"
   ]
  },
  {
   "cell_type": "code",
   "execution_count": null,
   "metadata": {},
   "outputs": [],
   "source": [
    "## Step 5: Generate Monte Carlo(MC) samples\n",
    "np.random.seed(787878)\n",
    "mc_design = np.random.rand(nMCSamples, nParam)\n",
    "mc_design = mc_design*2 - 1\n",
    "print('Generate Monte Carlo samples: Done!')\n",
    "\n",
    "## Step 6: Evaluate the MC samples using the built ROMs for data points/objs\n",
    "mc_data, mc_obj = evaluate_MC_with_ROM(ROM_data, ROM_obj, data_train_read_raw, mc_design, nData, nMCSamples)"
   ]
  },
  {
   "cell_type": "code",
   "execution_count": null,
   "metadata": {},
   "outputs": [],
   "source": [
    "## Step 7: Calculate posterior distribution and uncertainty reduction\n",
    "prior_mean, prior_p90mp10, synthetic_data, results = uncertainty_reduction(mc_obj, mc_data, ROM_data, data_train_read_raw, MeasureType,\n",
    "                                                                            nData, nDataRealization, nParam, nColumn_data, \n",
    "                                                                            x_min, x_max, eps, err_option, time_sensitivity)\n",
    "\n",
    "post_p90mp10_mean, post_p90mp10_time, post_p90mp10_iData, post_mean, post_mean_iData, nSamples, mc_obj_post = results"
   ]
  },
  {
   "cell_type": "code",
   "execution_count": null,
   "metadata": {},
   "outputs": [],
   "source": [
    "## Step 8: Post-processing\n",
    "make_post_processing(post_processing, results, synthetic_data, mc_obj, prior_p90mp10, data_train_read_raw0, time_point, Total_time, nDataRealization, nMCSamples, nColumn_data, nTimeSeries)"
   ]
  },
  {
   "attachments": {},
   "cell_type": "markdown",
   "metadata": {},
   "source": [
    "***\n",
    "# END"
   ]
  }
 ],
 "metadata": {
  "kernelspec": {
   "display_name": "Python 3",
   "language": "python",
   "name": "python3"
  },
  "language_info": {
   "codemirror_mode": {
    "name": "ipython",
    "version": 3
   },
   "file_extension": ".py",
   "mimetype": "text/x-python",
   "name": "python",
   "nbconvert_exporter": "python",
   "pygments_lexer": "ipython3",
   "version": "3.6.13"
  },
  "orig_nbformat": 4
 },
 "nbformat": 4,
 "nbformat_minor": 2
}

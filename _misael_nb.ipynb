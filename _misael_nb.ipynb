{
 "cells": [
  {
   "cell_type": "code",
   "execution_count": null,
   "metadata": {},
   "outputs": [],
   "source": [
    "from Uncertainty import *\n",
    "from uncertaintyMetric import *\n",
    "from utils import *\n",
    "\n",
    "K.clear_session()\n",
    "check_tensorflow_gpu()"
   ]
  },
  {
   "cell_type": "code",
   "execution_count": null,
   "metadata": {},
   "outputs": [],
   "source": [
    "local_method = 'dogleg'\n",
    "x0           = [0,2]\n",
    "glob_bounds  = [-2,2]\n",
    "plot_bounds  = [-4, 4]\n",
    "select       = 5\n",
    "\n",
    "opt = FullOpt(select)\n",
    "local_res, local_res_df = opt.local_opt(x0=x0, method=local_method)\n",
    "global_res, global_res_df = opt.global_opt(varbounds=glob_bounds)"
   ]
  },
  {
   "cell_type": "code",
   "execution_count": null,
   "metadata": {},
   "outputs": [],
   "source": [
    "opt.make_plot(global_res_df, local_res_df, mbounds=plot_bounds, angle=[30,45], filled=False, showcontours=True, figsize=(25,8), cmaps=['inferno','jet','coolwarm'])"
   ]
  },
  {
   "attachments": {},
   "cell_type": "markdown",
   "metadata": {},
   "source": [
    "***"
   ]
  },
  {
   "cell_type": "code",
   "execution_count": null,
   "metadata": {},
   "outputs": [],
   "source": [
    "# General settings\n",
    "Main_Directory   = os.getcwd()\n",
    "Data_Directory   = os.path.join(Main_Directory, 'data')\n",
    "titles           = ['.', 'Pressure', 'CO2 Saturation (l)', 'Temperature', 'Pressure + CO2 Saturation']\n",
    "unc_params       = ['perm4', 'perm5', 'perm6', 'kmult']\n",
    "\n",
    "MeasureType      = 1                           # Measurement type: 1 for pressure; 2 for CO2 saturation; 3 for tempeture, 4 for pressure+CO2 saturation                     \n",
    "Total_time       = 1800                        # Total injection and post-injection time (days)\n",
    "nTimeSeries      = 60                          # The number of measurement time series\n",
    "nInterval        = 1                           # Measurement interval, default value = 1/Month\n",
    "\n",
    "nTrain           = 500                         # The number of training simulations\n",
    "Obj_filename     = 'run_co2mt.his'             # Objective file name\n",
    "nColumn_obj      = 50                          # The column(s) in which the object of interest is located\n",
    "nColumn_data     = [7]    #[7]                 # The column in which the data measurement is located \n",
    "\n",
    "x_max            = [1e-14, 1e-14, 1e-14, 2.0]  # Upper bounds for all the uncertain parameters\n",
    "x_min            = [1e-19, 1e-19, 1e-19, 0.5]  # Lower bounds for all the uncertain parameters\n",
    "ROMs_validation  = 0                           # ROMs cross-validation flag\n",
    "nMCSamples       = 10000  #100000              # Number of monte carlo samples\n",
    "nParam           = 4                           # Number of uncertain parameters\n",
    "nDataRealization = 100    #200                 # Number of data realizations\n",
    "err_option       = 3                           # Type of err option (2=MeanAE, 3=MaxAE)\n",
    "time_sensitivity = 1                           # Whether consider time sensitivity for UR flag\n",
    "post_processing  = 1                           # Plotting flag\n",
    "print('Current Working Directory: {}'.format(Main_Directory))\n",
    "print('Data Directory: {}'.format(Data_Directory))\n",
    "\n",
    "## Step 1: Perfrom training simulation\n",
    "# This step is done in a seperate code.\n",
    "\n",
    "roms = [Ridge(), Ridge()]"
   ]
  },
  {
   "cell_type": "code",
   "execution_count": null,
   "metadata": {},
   "outputs": [],
   "source": [
    "## Step 2: Read-in training simulation results\n",
    "training_data, raw_data, parameters = read_train_sim_results(Data_Directory, MeasureType, Obj_filename, nColumn_obj, Total_time, nTimeSeries,\n",
    "                                                                nColumn_data, nInterval, nTrain, nParam, x_min, x_max, titles)\n",
    "#unpack variables\n",
    "data_train, x_train, x_train_scaled, y_train, y_train_scaled = training_data\n",
    "data_train_read_raw, data_train_read_raw0                    = raw_data\n",
    "eps, nData, time_point                                       = parameters\n",
    "\n",
    "plot_train_data(data_train, x_train_scaled, y_train_scaled, titles, MeasureType, Obj_filename, unc_params)"
   ]
  },
  {
   "cell_type": "code",
   "execution_count": null,
   "metadata": {},
   "outputs": [],
   "source": [
    "## Step 3: 10-fold cross-validation of ROMs (iff ROMS_validation=1)\n",
    "## Step 4: Construct the Mars ROMs for data and response of interest\n",
    "ROM_data, ROM_obj = rom_validation(ROMs_validation, Ridge(), Ridge(), x_train_scaled, y_train, data_train, nTrain, nData, data_train_read_raw, NN=False)"
   ]
  },
  {
   "cell_type": "code",
   "execution_count": null,
   "metadata": {},
   "outputs": [],
   "source": [
    "## Step 5: Generate Monte Carlo(MC) samples\n",
    "np.random.seed(787878)\n",
    "mc_design = np.random.rand(nMCSamples, nParam)\n",
    "mc_design = mc_design*2 - 1\n",
    "print('Generate Monte Carlo samples: Done!')\n",
    "\n",
    "## Step 6: Evaluate the MC samples using the built ROMs for data points/objs\n",
    "mc_data, mc_obj = evaluate_MC_with_ROM(ROM_data, ROM_obj, data_train_read_raw, mc_design, nData, nMCSamples)"
   ]
  },
  {
   "cell_type": "code",
   "execution_count": null,
   "metadata": {},
   "outputs": [],
   "source": [
    "## Step 7: Calculate posterior distribution and uncertainty reduction\n",
    "prior_mean, prior_p90mp10, synthetic_data, results = uncertainty_reduction(mc_obj, mc_data, ROM_data, data_train_read_raw, MeasureType,\n",
    "                                                                            nData, nDataRealization, nParam, nColumn_data, \n",
    "                                                                            x_min, x_max, eps, err_option, time_sensitivity)\n",
    "\n",
    "post_p90mp10_mean, post_p90mp10_time, post_p90mp10_iData, post_mean, post_mean_iData, nSamples, mc_obj_post = results"
   ]
  },
  {
   "cell_type": "code",
   "execution_count": null,
   "metadata": {},
   "outputs": [],
   "source": [
    "## Step 8: Post-processing\n",
    "make_post_processing(post_processing, results, synthetic_data, mc_obj, prior_p90mp10, data_train_read_raw0, time_point, Total_time, nDataRealization, nMCSamples, nColumn_data, nTimeSeries)"
   ]
  },
  {
   "attachments": {},
   "cell_type": "markdown",
   "metadata": {},
   "source": [
    "***\n",
    "# END"
   ]
  }
 ],
 "metadata": {
  "kernelspec": {
   "display_name": "Python 3",
   "language": "python",
   "name": "python3"
  },
  "language_info": {
   "codemirror_mode": {
    "name": "ipython",
    "version": 3
   },
   "file_extension": ".py",
   "mimetype": "text/x-python",
   "name": "python",
   "nbconvert_exporter": "python",
   "pygments_lexer": "ipython3",
   "version": "3.6.13"
  },
  "orig_nbformat": 4
 },
 "nbformat": 4,
 "nbformat_minor": 2
}

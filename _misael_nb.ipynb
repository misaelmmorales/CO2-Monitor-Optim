{
 "cells": [
  {
   "cell_type": "code",
   "execution_count": 1,
   "metadata": {},
   "outputs": [
    {
     "name": "stdout",
     "output_type": "stream",
     "text": [
      "Checking Tensorflow Version:\n",
      "Tensorflow built with CUDA? True\n",
      "Tensorflow version: 2.6.2\n",
      "# GPU available: 1\n",
      "CUDA: 64_112 | cuDNN: 64_8\n",
      "[PhysicalDevice(name='/physical_device:CPU:0', device_type='CPU'), PhysicalDevice(name='/physical_device:GPU:0', device_type='GPU')]\n"
     ]
    }
   ],
   "source": [
    "from Uncertainty import *\n",
    "from uncertaintyMetric import *\n",
    "from utils import *\n",
    "\n",
    "K.clear_session()\n",
    "check_tensorflow_gpu()"
   ]
  },
  {
   "cell_type": "code",
   "execution_count": null,
   "metadata": {},
   "outputs": [],
   "source": [
    "### LAYER OPTIMIZATION\n",
    "layer1, layer2, layer3 = np.arange(2,18), np.arange(18,34), np.arange(34,50)\n",
    "layer_list = [layer1, layer2, layer3]\n",
    "result = pd.DataFrame(index=['layer 1', 'layer 2', 'layer 3'], columns=['measure 1', 'measure 2', 'measure 3', 'measure 4'])\n",
    "for m in range(4):\n",
    "    for l in range(len(layer_list)):\n",
    "        result.iloc[l,m] = Proxy(ncol_data=list(layer_list[l]), measure_type=m+1, nDataRealization=50, nMCSamples=300, \n",
    "                                 rom_data=LinearRegression(), rom_obj=LinearRegression(), error_option=2).value \n",
    "result.to_csv('optimization_by_layer.csv')\n",
    "\n",
    "### COLUMN/WELL OPTIMIZATION\n",
    "well_names = ['well {}'.format(p+1) for p in range(16)]\n",
    "templist, well = np.arange(2,50,step=16), {}\n",
    "for i in range(16):\n",
    "    well[i] = templist+i\n",
    "wells = np.array(list(well.values()))\n",
    "results = pd.DataFrame(index=well_names, columns=['measure 1', 'measure 2', 'measure 3', 'measure 4'])\n",
    "for m in range(4):\n",
    "    for i in range(16):\n",
    "        results.iloc[i,m] = Proxy(ncol_data=list(wells[i]), measure_type=m+1, nDataRealization=50, nMCSamples=400, rom_data=LinearRegression(), rom_obj=LinearRegression()).value\n",
    "results.to_csv('optimizabion_by_column.csv')"
   ]
  },
  {
   "cell_type": "code",
   "execution_count": null,
   "metadata": {},
   "outputs": [],
   "source": [
    "# select       = 7\n",
    "# plot_bounds  = [-3, 3]\n",
    "\n",
    "# local_method = 'trust-krylov'\n",
    "# x0           = [1.5, 1.5]\n",
    "# glob_bounds  = [-2, 2]\n",
    "\n",
    "# opt = FullOpt(select)\n",
    "# local_res,  local_res_df  = opt.local_opt(x0=x0, method=local_method)\n",
    "# global_res, global_res_df = opt.global_opt(varbounds=glob_bounds)\n",
    "# opt.make_plot(global_res_df, local_res_df, mbounds=plot_bounds, \n",
    "#               showcontours=True, showtrajectory=True, angle=[45,225])"
   ]
  },
  {
   "attachments": {},
   "cell_type": "markdown",
   "metadata": {},
   "source": [
    "Brute Force"
   ]
  },
  {
   "cell_type": "code",
   "execution_count": null,
   "metadata": {},
   "outputs": [],
   "source": [
    "view_results('LR', suptitle='Linear Regression ROM', folder='_misael_results')\n",
    "view_results('MARS', suptitle='MARS ROM', folder='_misael_results')"
   ]
  },
  {
   "attachments": {},
   "cell_type": "markdown",
   "metadata": {},
   "source": [
    "***"
   ]
  },
  {
   "cell_type": "code",
   "execution_count": null,
   "metadata": {},
   "outputs": [],
   "source": [
    "# General settings\n",
    "Main_Directory   = os.getcwd()\n",
    "Data_Directory   = os.path.join(Main_Directory, 'data')\n",
    "titles           = ['.', 'Pressure', 'CO2 Saturation (l)', 'Temperature', 'Pressure + CO2 Saturation']\n",
    "unc_params       = ['perm4', 'perm5', 'perm6', 'kmult']\n",
    "\n",
    "MeasureType      = 1                           # Measurement type: 1 for pressure; 2 for CO2 saturation; 3 for tempeture, 4 for pressure+CO2 saturation                     \n",
    "Total_time       = 1800                        # Total injection and post-injection time (days)\n",
    "nTimeSeries      = 60                          # The number of measurement time series\n",
    "nInterval        = 1                           # Measurement interval, default value = 1/Month\n",
    "\n",
    "nTrain           = 500                         # The number of training simulations\n",
    "Obj_filename     = 'run_co2mt.his'             # Objective file name\n",
    "nColumn_obj      = 50                          # The column(s) in which the object of interest is located\n",
    "nColumn_data     = [7]    #[7]                 # The column in which the data measurement is located \n",
    "\n",
    "x_max            = [1e-14, 1e-14, 1e-14, 2.0]  # Upper bounds for all the uncertain parameters\n",
    "x_min            = [1e-19, 1e-19, 1e-19, 0.5]  # Lower bounds for all the uncertain parameters\n",
    "ROMs_validation  = 0                           # ROMs cross-validation flag\n",
    "nMCSamples       = 10000  #100000              # Number of monte carlo samples\n",
    "nParam           = 4                           # Number of uncertain parameters\n",
    "nDataRealization = 100    #200                 # Number of data realizations\n",
    "err_option       = 3                           # Type of err option (2=MeanAE, 3=MaxAE)\n",
    "time_sensitivity = 1                           # Whether consider time sensitivity for UR flag\n",
    "post_processing  = 1                           # Plotting flag\n",
    "print('Current Working Directory: {}'.format(Main_Directory))\n",
    "print('Data Directory: {}'.format(Data_Directory))\n",
    "\n",
    "## Step 1: Perfrom training simulation\n",
    "# This step is done in a seperate code.\n",
    "\n",
    "roms = [Ridge(), Ridge()]"
   ]
  },
  {
   "attachments": {},
   "cell_type": "markdown",
   "metadata": {},
   "source": [
    "***\n",
    "# END"
   ]
  }
 ],
 "metadata": {
  "kernelspec": {
   "display_name": "Python 3",
   "language": "python",
   "name": "python3"
  },
  "language_info": {
   "codemirror_mode": {
    "name": "ipython",
    "version": 3
   },
   "file_extension": ".py",
   "mimetype": "text/x-python",
   "name": "python",
   "nbconvert_exporter": "python",
   "pygments_lexer": "ipython3",
   "version": "3.6.13"
  },
  "orig_nbformat": 4
 },
 "nbformat": 4,
 "nbformat_minor": 2
}

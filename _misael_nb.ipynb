{
 "cells": [
  {
   "cell_type": "code",
   "execution_count": 1,
   "metadata": {},
   "outputs": [
    {
     "name": "stdout",
     "output_type": "stream",
     "text": [
      "Checking Tensorflow Version:\n",
      "Tensorflow built with CUDA? True\n",
      "Tensorflow version: 2.6.2\n",
      "# GPU available: 1\n",
      "CUDA: 64_112 | cuDNN: 64_8\n",
      "[PhysicalDevice(name='/physical_device:CPU:0', device_type='CPU'), PhysicalDevice(name='/physical_device:GPU:0', device_type='GPU')]\n"
     ]
    }
   ],
   "source": [
    "from Uncertainty import *\n",
    "from uncertaintyMetric import *\n",
    "from utils import *\n",
    "\n",
    "from geneticalgorithm import geneticalgorithm as ga\n",
    "import scipy.optimize as opt\n",
    "\n",
    "K.clear_session()\n",
    "check_tensorflow_gpu()"
   ]
  },
  {
   "cell_type": "code",
   "execution_count": 39,
   "metadata": {},
   "outputs": [],
   "source": [
    "def fopt(X):\n",
    "    x, y = X \n",
    "    return y*x**2 - 2*x*y**2 + 3*x*y + 4"
   ]
  },
  {
   "cell_type": "code",
   "execution_count": 40,
   "metadata": {},
   "outputs": [],
   "source": [
    "def fopt(obj):\n",
    "    res = proxy(ncol_data=int(obj[0]), measure_type=int(obj[1]),\n",
    "                rom_obj=LinearRegression(), rom_data=LinearRegression(), \n",
    "                nMCSamples=750, nDataRealization=25, verbose=False)\n",
    "    return res.value"
   ]
  },
  {
   "cell_type": "code",
   "execution_count": 42,
   "metadata": {},
   "outputs": [
    {
     "name": "stdout",
     "output_type": "stream",
     "text": [
      "Measure Type: 2 | Data File Name: run_co2sl.his | Description: CO2 Saturation (l) | nColData: [2] | HM-epsilon: 0.05\n",
      "Measure Type: 2 | Data File Name: run_co2sl.his | Description: CO2 Saturation (l) | nColData: [3] | HM-epsilon: 0.05\n",
      "Measure Type: 2 | Data File Name: run_co2sl.his | Description: CO2 Saturation (l) | nColData: [3] | HM-epsilon: 0.05\n",
      "__________________________________________________ 1.0% GA is running...Measure Type: 3 | Data File Name: run_temp.his | Description: Temperature | nColData: [3] | HM-epsilon: 0.002\n",
      "Measure Type: 2 | Data File Name: run_co2sl.his | Description: CO2 Saturation (l) | nColData: [3] | HM-epsilon: 0.05\n",
      "|_________________________________________________ 2.0% GA is running...Measure Type: 3 | Data File Name: run_temp.his | Description: Temperature | nColData: [3] | HM-epsilon: 0.002\n",
      "Measure Type: 2 | Data File Name: run_co2sl.his | Description: CO2 Saturation (l) | nColData: [3] | HM-epsilon: 0.05\n",
      "||________________________________________________ 3.0% GA is running...Measure Type: 3 | Data File Name: run_temp.his | Description: Temperature | nColData: [3] | HM-epsilon: 0.002\n",
      "Measure Type: 2 | Data File Name: run_co2sl.his | Description: CO2 Saturation (l) | nColData: [3] | HM-epsilon: 0.05\n",
      "||________________________________________________ 4.0% GA is running...Measure Type: 3 | Data File Name: run_temp.his | Description: Temperature | nColData: [3] | HM-epsilon: 0.002\n",
      "Measure Type: 2 | Data File Name: run_co2sl.his | Description: CO2 Saturation (l) | nColData: [3] | HM-epsilon: 0.05\n",
      "||________________________________________________ 5.0% GA is running...Measure Type: 3 | Data File Name: run_temp.his | Description: Temperature | nColData: [3] | HM-epsilon: 0.002\n",
      "Measure Type: 2 | Data File Name: run_co2sl.his | Description: CO2 Saturation (l) | nColData: [3] | HM-epsilon: 0.05\n",
      "|||_______________________________________________ 6.0% GA is running...Measure Type: 3 | Data File Name: run_temp.his | Description: Temperature | nColData: [3] | HM-epsilon: 0.002\n",
      "Measure Type: 2 | Data File Name: run_co2sl.his | Description: CO2 Saturation (l) | nColData: [3] | HM-epsilon: 0.05\n",
      "||||______________________________________________ 7.0% GA is running...Measure Type: 3 | Data File Name: run_temp.his | Description: Temperature | nColData: [3] | HM-epsilon: 0.002\n",
      "Measure Type: 2 | Data File Name: run_co2sl.his | Description: CO2 Saturation (l) | nColData: [3] | HM-epsilon: 0.05\n"
     ]
    },
    {
     "ename": "KeyboardInterrupt",
     "evalue": "",
     "output_type": "error",
     "traceback": [
      "\u001b[1;31m---------------------------------------------------------------------------\u001b[0m",
      "\u001b[1;31mKeyboardInterrupt\u001b[0m                         Traceback (most recent call last)",
      "\u001b[1;32m<ipython-input-42-d6c97c33f87f>\u001b[0m in \u001b[0;36m<module>\u001b[1;34m\u001b[0m\n\u001b[0;32m     16\u001b[0m            algorithm_parameters = alg_params)\n\u001b[0;32m     17\u001b[0m \u001b[1;33m\u001b[0m\u001b[0m\n\u001b[1;32m---> 18\u001b[1;33m \u001b[0mmodel\u001b[0m\u001b[1;33m.\u001b[0m\u001b[0mrun\u001b[0m\u001b[1;33m(\u001b[0m\u001b[1;33m)\u001b[0m\u001b[1;33m\u001b[0m\u001b[1;33m\u001b[0m\u001b[0m\n\u001b[0m",
      "\u001b[1;32mc:\\Users\\381792\\AppData\\Local\\anaconda3\\envs\\earth36\\lib\\site-packages\\geneticalgorithm\\geneticalgorithm.py\u001b[0m in \u001b[0;36mrun\u001b[1;34m(self)\u001b[0m\n\u001b[0;32m    405\u001b[0m                 \u001b[0mpop\u001b[0m\u001b[1;33m[\u001b[0m\u001b[0mk\u001b[0m\u001b[1;33m]\u001b[0m\u001b[1;33m=\u001b[0m\u001b[0msolo\u001b[0m\u001b[1;33m.\u001b[0m\u001b[0mcopy\u001b[0m\u001b[1;33m(\u001b[0m\u001b[1;33m)\u001b[0m\u001b[1;33m\u001b[0m\u001b[1;33m\u001b[0m\u001b[0m\n\u001b[0;32m    406\u001b[0m                 \u001b[0msolo\u001b[0m\u001b[1;33m[\u001b[0m\u001b[1;33m:\u001b[0m \u001b[0mself\u001b[0m\u001b[1;33m.\u001b[0m\u001b[0mdim\u001b[0m\u001b[1;33m]\u001b[0m\u001b[1;33m=\u001b[0m\u001b[0mch2\u001b[0m\u001b[1;33m.\u001b[0m\u001b[0mcopy\u001b[0m\u001b[1;33m(\u001b[0m\u001b[1;33m)\u001b[0m\u001b[1;33m\u001b[0m\u001b[1;33m\u001b[0m\u001b[0m\n\u001b[1;32m--> 407\u001b[1;33m                 \u001b[0mobj\u001b[0m\u001b[1;33m=\u001b[0m\u001b[0mself\u001b[0m\u001b[1;33m.\u001b[0m\u001b[0msim\u001b[0m\u001b[1;33m(\u001b[0m\u001b[0mch2\u001b[0m\u001b[1;33m)\u001b[0m\u001b[1;33m\u001b[0m\u001b[1;33m\u001b[0m\u001b[0m\n\u001b[0m\u001b[0;32m    408\u001b[0m                 \u001b[0msolo\u001b[0m\u001b[1;33m[\u001b[0m\u001b[0mself\u001b[0m\u001b[1;33m.\u001b[0m\u001b[0mdim\u001b[0m\u001b[1;33m]\u001b[0m\u001b[1;33m=\u001b[0m\u001b[0mobj\u001b[0m\u001b[1;33m\u001b[0m\u001b[1;33m\u001b[0m\u001b[0m\n\u001b[0;32m    409\u001b[0m                 \u001b[0mpop\u001b[0m\u001b[1;33m[\u001b[0m\u001b[0mk\u001b[0m\u001b[1;33m+\u001b[0m\u001b[1;36m1\u001b[0m\u001b[1;33m]\u001b[0m\u001b[1;33m=\u001b[0m\u001b[0msolo\u001b[0m\u001b[1;33m.\u001b[0m\u001b[0mcopy\u001b[0m\u001b[1;33m(\u001b[0m\u001b[1;33m)\u001b[0m\u001b[1;33m\u001b[0m\u001b[1;33m\u001b[0m\u001b[0m\n",
      "\u001b[1;32mc:\\Users\\381792\\AppData\\Local\\anaconda3\\envs\\earth36\\lib\\site-packages\\geneticalgorithm\\geneticalgorithm.py\u001b[0m in \u001b[0;36msim\u001b[1;34m(self, X)\u001b[0m\n\u001b[0;32m    540\u001b[0m         \u001b[0mobj\u001b[0m\u001b[1;33m=\u001b[0m\u001b[1;32mNone\u001b[0m\u001b[1;33m\u001b[0m\u001b[1;33m\u001b[0m\u001b[0m\n\u001b[0;32m    541\u001b[0m         \u001b[1;32mtry\u001b[0m\u001b[1;33m:\u001b[0m\u001b[1;33m\u001b[0m\u001b[1;33m\u001b[0m\u001b[0m\n\u001b[1;32m--> 542\u001b[1;33m             \u001b[0mobj\u001b[0m\u001b[1;33m=\u001b[0m\u001b[0mfunc_timeout\u001b[0m\u001b[1;33m(\u001b[0m\u001b[0mself\u001b[0m\u001b[1;33m.\u001b[0m\u001b[0mfuntimeout\u001b[0m\u001b[1;33m,\u001b[0m\u001b[0mself\u001b[0m\u001b[1;33m.\u001b[0m\u001b[0mevaluate\u001b[0m\u001b[1;33m)\u001b[0m\u001b[1;33m\u001b[0m\u001b[1;33m\u001b[0m\u001b[0m\n\u001b[0m\u001b[0;32m    543\u001b[0m         \u001b[1;32mexcept\u001b[0m \u001b[0mFunctionTimedOut\u001b[0m\u001b[1;33m:\u001b[0m\u001b[1;33m\u001b[0m\u001b[1;33m\u001b[0m\u001b[0m\n\u001b[0;32m    544\u001b[0m             \u001b[0mprint\u001b[0m\u001b[1;33m(\u001b[0m\u001b[1;34m\"given function is not applicable\"\u001b[0m\u001b[1;33m)\u001b[0m\u001b[1;33m\u001b[0m\u001b[1;33m\u001b[0m\u001b[0m\n",
      "\u001b[1;32mc:\\Users\\381792\\AppData\\Local\\anaconda3\\envs\\earth36\\lib\\site-packages\\func_timeout\\dafunc.py\u001b[0m in \u001b[0;36mfunc_timeout\u001b[1;34m(timeout, func, args, kwargs)\u001b[0m\n\u001b[0;32m     84\u001b[0m \u001b[1;33m\u001b[0m\u001b[0m\n\u001b[0;32m     85\u001b[0m     \u001b[0mthread\u001b[0m\u001b[1;33m.\u001b[0m\u001b[0mstart\u001b[0m\u001b[1;33m(\u001b[0m\u001b[1;33m)\u001b[0m\u001b[1;33m\u001b[0m\u001b[1;33m\u001b[0m\u001b[0m\n\u001b[1;32m---> 86\u001b[1;33m     \u001b[0mthread\u001b[0m\u001b[1;33m.\u001b[0m\u001b[0mjoin\u001b[0m\u001b[1;33m(\u001b[0m\u001b[0mtimeout\u001b[0m\u001b[1;33m)\u001b[0m\u001b[1;33m\u001b[0m\u001b[1;33m\u001b[0m\u001b[0m\n\u001b[0m\u001b[0;32m     87\u001b[0m \u001b[1;33m\u001b[0m\u001b[0m\n\u001b[0;32m     88\u001b[0m     \u001b[0mstopException\u001b[0m \u001b[1;33m=\u001b[0m \u001b[1;32mNone\u001b[0m\u001b[1;33m\u001b[0m\u001b[1;33m\u001b[0m\u001b[0m\n",
      "\u001b[1;32mc:\\Users\\381792\\AppData\\Local\\anaconda3\\envs\\earth36\\lib\\threading.py\u001b[0m in \u001b[0;36mjoin\u001b[1;34m(self, timeout)\u001b[0m\n\u001b[0;32m   1058\u001b[0m             \u001b[1;31m# the behavior of a negative timeout isn't documented, but\u001b[0m\u001b[1;33m\u001b[0m\u001b[1;33m\u001b[0m\u001b[1;33m\u001b[0m\u001b[0m\n\u001b[0;32m   1059\u001b[0m             \u001b[1;31m# historically .join(timeout=x) for x<0 has acted as if timeout=0\u001b[0m\u001b[1;33m\u001b[0m\u001b[1;33m\u001b[0m\u001b[1;33m\u001b[0m\u001b[0m\n\u001b[1;32m-> 1060\u001b[1;33m             \u001b[0mself\u001b[0m\u001b[1;33m.\u001b[0m\u001b[0m_wait_for_tstate_lock\u001b[0m\u001b[1;33m(\u001b[0m\u001b[0mtimeout\u001b[0m\u001b[1;33m=\u001b[0m\u001b[0mmax\u001b[0m\u001b[1;33m(\u001b[0m\u001b[0mtimeout\u001b[0m\u001b[1;33m,\u001b[0m \u001b[1;36m0\u001b[0m\u001b[1;33m)\u001b[0m\u001b[1;33m)\u001b[0m\u001b[1;33m\u001b[0m\u001b[1;33m\u001b[0m\u001b[0m\n\u001b[0m\u001b[0;32m   1061\u001b[0m \u001b[1;33m\u001b[0m\u001b[0m\n\u001b[0;32m   1062\u001b[0m     \u001b[1;32mdef\u001b[0m \u001b[0m_wait_for_tstate_lock\u001b[0m\u001b[1;33m(\u001b[0m\u001b[0mself\u001b[0m\u001b[1;33m,\u001b[0m \u001b[0mblock\u001b[0m\u001b[1;33m=\u001b[0m\u001b[1;32mTrue\u001b[0m\u001b[1;33m,\u001b[0m \u001b[0mtimeout\u001b[0m\u001b[1;33m=\u001b[0m\u001b[1;33m-\u001b[0m\u001b[1;36m1\u001b[0m\u001b[1;33m)\u001b[0m\u001b[1;33m:\u001b[0m\u001b[1;33m\u001b[0m\u001b[1;33m\u001b[0m\u001b[0m\n",
      "\u001b[1;32mc:\\Users\\381792\\AppData\\Local\\anaconda3\\envs\\earth36\\lib\\threading.py\u001b[0m in \u001b[0;36m_wait_for_tstate_lock\u001b[1;34m(self, block, timeout)\u001b[0m\n\u001b[0;32m   1070\u001b[0m         \u001b[1;32mif\u001b[0m \u001b[0mlock\u001b[0m \u001b[1;32mis\u001b[0m \u001b[1;32mNone\u001b[0m\u001b[1;33m:\u001b[0m  \u001b[1;31m# already determined that the C code is done\u001b[0m\u001b[1;33m\u001b[0m\u001b[1;33m\u001b[0m\u001b[0m\n\u001b[0;32m   1071\u001b[0m             \u001b[1;32massert\u001b[0m \u001b[0mself\u001b[0m\u001b[1;33m.\u001b[0m\u001b[0m_is_stopped\u001b[0m\u001b[1;33m\u001b[0m\u001b[1;33m\u001b[0m\u001b[0m\n\u001b[1;32m-> 1072\u001b[1;33m         \u001b[1;32melif\u001b[0m \u001b[0mlock\u001b[0m\u001b[1;33m.\u001b[0m\u001b[0macquire\u001b[0m\u001b[1;33m(\u001b[0m\u001b[0mblock\u001b[0m\u001b[1;33m,\u001b[0m \u001b[0mtimeout\u001b[0m\u001b[1;33m)\u001b[0m\u001b[1;33m:\u001b[0m\u001b[1;33m\u001b[0m\u001b[1;33m\u001b[0m\u001b[0m\n\u001b[0m\u001b[0;32m   1073\u001b[0m             \u001b[0mlock\u001b[0m\u001b[1;33m.\u001b[0m\u001b[0mrelease\u001b[0m\u001b[1;33m(\u001b[0m\u001b[1;33m)\u001b[0m\u001b[1;33m\u001b[0m\u001b[1;33m\u001b[0m\u001b[0m\n\u001b[0;32m   1074\u001b[0m             \u001b[0mself\u001b[0m\u001b[1;33m.\u001b[0m\u001b[0m_stop\u001b[0m\u001b[1;33m(\u001b[0m\u001b[1;33m)\u001b[0m\u001b[1;33m\u001b[0m\u001b[1;33m\u001b[0m\u001b[0m\n",
      "\u001b[1;31mKeyboardInterrupt\u001b[0m: "
     ]
    }
   ],
   "source": [
    "varbound = np.array([[2,4]]*2)\n",
    "\n",
    "alg_params = {'max_num_iteration':100 ,\n",
    "              'population_size':3,\n",
    "              'mutation_probability':0.3,\n",
    "              'elit_ratio':0.01,\n",
    "              'crossover_probability':0.33,\n",
    "              'parents_portion':0.25,\n",
    "              'crossover_type':'uniform',\n",
    "              'max_iteration_without_improv':100}\n",
    "\n",
    "model = ga(function             = fopt, \n",
    "           dimension            = 2, \n",
    "           variable_type        = 'real', \n",
    "           variable_boundaries  = varbound,\n",
    "           algorithm_parameters = alg_params)\n",
    "\n",
    "model.run()"
   ]
  },
  {
   "cell_type": "code",
   "execution_count": 38,
   "metadata": {},
   "outputs": [
    {
     "name": "stdout",
     "output_type": "stream",
     "text": [
      "     fun: -1.5543866958641433e+156\n",
      "     jac: array([-3.44397287e+104,  2.61452520e+104])\n",
      " message: 'Desired error not necessarily achieved due to precision loss.'\n",
      "    nfev: 4203\n",
      "     nit: 19\n",
      "    njev: 1401\n",
      "  status: 2\n",
      " success: False\n",
      "       x: array([ 5.42736156e+51, -1.06864202e+52])\n"
     ]
    }
   ],
   "source": [
    "res = opt.minimize(fopt, [-5, 5], method='CG')\n",
    "print(res)"
   ]
  },
  {
   "cell_type": "code",
   "execution_count": 25,
   "metadata": {},
   "outputs": [
    {
     "ename": "AttributeError",
     "evalue": "module 'matplotlib.pyplot' has no attribute 'add_subplot'",
     "output_type": "error",
     "traceback": [
      "\u001b[1;31m---------------------------------------------------------------------------\u001b[0m",
      "\u001b[1;31mAttributeError\u001b[0m                            Traceback (most recent call last)",
      "\u001b[1;32m<ipython-input-25-16e3f18857ec>\u001b[0m in \u001b[0;36m<module>\u001b[1;34m\u001b[0m\n\u001b[0;32m      4\u001b[0m \u001b[1;33m\u001b[0m\u001b[0m\n\u001b[0;32m      5\u001b[0m \u001b[0mplt\u001b[0m\u001b[1;33m.\u001b[0m\u001b[0mfigure\u001b[0m\u001b[1;33m(\u001b[0m\u001b[0mfigsize\u001b[0m\u001b[1;33m=\u001b[0m\u001b[1;33m(\u001b[0m\u001b[1;36m20\u001b[0m\u001b[1;33m,\u001b[0m\u001b[1;36m5\u001b[0m\u001b[1;33m)\u001b[0m\u001b[1;33m)\u001b[0m\u001b[1;33m\u001b[0m\u001b[1;33m\u001b[0m\u001b[0m\n\u001b[1;32m----> 6\u001b[1;33m \u001b[0max\u001b[0m \u001b[1;33m=\u001b[0m \u001b[0mplt\u001b[0m\u001b[1;33m.\u001b[0m\u001b[0madd_subplot\u001b[0m\u001b[1;33m(\u001b[0m\u001b[1;36m121\u001b[0m\u001b[1;33m)\u001b[0m\u001b[1;33m\u001b[0m\u001b[1;33m\u001b[0m\u001b[0m\n\u001b[0m\u001b[0;32m      7\u001b[0m \u001b[0mplt\u001b[0m\u001b[1;33m.\u001b[0m\u001b[0mcontourf\u001b[0m\u001b[1;33m(\u001b[0m\u001b[0mX\u001b[0m\u001b[1;33m,\u001b[0m\u001b[0mY\u001b[0m\u001b[1;33m,\u001b[0m\u001b[0mZ\u001b[0m\u001b[1;33m,\u001b[0m \u001b[0mlevels\u001b[0m\u001b[1;33m=\u001b[0m\u001b[1;36m20\u001b[0m \u001b[1;33m,\u001b[0m\u001b[0mcmap\u001b[0m\u001b[1;33m=\u001b[0m\u001b[1;34m'magma'\u001b[0m\u001b[1;33m)\u001b[0m\u001b[1;33m\u001b[0m\u001b[1;33m\u001b[0m\u001b[0m\n\u001b[0;32m      8\u001b[0m \u001b[0mplt\u001b[0m\u001b[1;33m.\u001b[0m\u001b[0mcolorbar\u001b[0m\u001b[1;33m(\u001b[0m\u001b[1;33m)\u001b[0m\u001b[1;33m\u001b[0m\u001b[1;33m\u001b[0m\u001b[0m\n",
      "\u001b[1;31mAttributeError\u001b[0m: module 'matplotlib.pyplot' has no attribute 'add_subplot'"
     ]
    },
    {
     "data": {
      "text/plain": [
       "<Figure size 1440x360 with 0 Axes>"
      ]
     },
     "metadata": {},
     "output_type": "display_data"
    }
   ],
   "source": [
    "x = np.linspace(-10,10,100)\n",
    "X, Y = np.meshgrid(x,x)\n",
    "Z = fopt([X,Y])\n",
    "\n",
    "plt.figure(figsize=(20,5))\n",
    "ax1 = plt.subplot(121)\n",
    "plt.contourf(X,Y,Z, levels=20 ,cmap='magma')\n",
    "plt.colorbar()\n",
    "\n",
    "ax2 = plt.add_subplot(122, projection='3d')\n",
    "ax2.plot_surface(X,Y,Z)\n",
    "plt.colorbar()\n",
    "\n",
    "\n",
    "plt.show()"
   ]
  },
  {
   "cell_type": "code",
   "execution_count": null,
   "metadata": {},
   "outputs": [],
   "source": []
  },
  {
   "attachments": {},
   "cell_type": "markdown",
   "metadata": {},
   "source": [
    "***"
   ]
  },
  {
   "cell_type": "code",
   "execution_count": null,
   "metadata": {},
   "outputs": [],
   "source": [
    "# General settings\n",
    "Main_Directory   = os.getcwd()\n",
    "Data_Directory   = os.path.join(Main_Directory, 'data')\n",
    "titles           = ['.', 'Pressure', 'CO2 Saturation (l)', 'Temperature', 'Pressure + CO2 Saturation']\n",
    "unc_params       = ['perm4', 'perm5', 'perm6', 'kmult']\n",
    "\n",
    "MeasureType      = 1                           # Measurement type: 1 for pressure; 2 for CO2 saturation; 3 for tempeture, 4 for pressure+CO2 saturation                     \n",
    "Total_time       = 1800                        # Total injection and post-injection time (days)\n",
    "nTimeSeries      = 60                          # The number of measurement time series\n",
    "nInterval        = 1                           # Measurement interval, default value = 1/Month\n",
    "\n",
    "nTrain           = 500                         # The number of training simulations\n",
    "Obj_filename     = 'run_co2mt.his'             # Objective file name\n",
    "nColumn_obj      = 50                          # The column(s) in which the object of interest is located\n",
    "nColumn_data     = [7]    #[7]                 # The column in which the data measurement is located \n",
    "\n",
    "x_max            = [1e-14, 1e-14, 1e-14, 2.0]  # Upper bounds for all the uncertain parameters\n",
    "x_min            = [1e-19, 1e-19, 1e-19, 0.5]  # Lower bounds for all the uncertain parameters\n",
    "ROMs_validation  = 0                           # ROMs cross-validation flag\n",
    "nMCSamples       = 10000  #100000              # Number of monte carlo samples\n",
    "nParam           = 4                           # Number of uncertain parameters\n",
    "nDataRealization = 100    #200                 # Number of data realizations\n",
    "err_option       = 3                           # Type of err option (2=MeanAE, 3=MaxAE)\n",
    "time_sensitivity = 1                           # Whether consider time sensitivity for UR flag\n",
    "post_processing  = 1                           # Plotting flag\n",
    "print('Current Working Directory: {}'.format(Main_Directory))\n",
    "print('Data Directory: {}'.format(Data_Directory))\n",
    "\n",
    "## Step 1: Perfrom training simulation\n",
    "# This step is done in a seperate code.\n",
    "\n",
    "roms = [Ridge(), Ridge()]"
   ]
  },
  {
   "cell_type": "code",
   "execution_count": null,
   "metadata": {},
   "outputs": [],
   "source": [
    "## Step 2: Read-in training simulation results\n",
    "training_data, raw_data, parameters = read_train_sim_results(Data_Directory, MeasureType, Obj_filename, nColumn_obj, Total_time, nTimeSeries,\n",
    "                                                                nColumn_data, nInterval, nTrain, nParam, x_min, x_max, titles)\n",
    "#unpack variables\n",
    "data_train, x_train, x_train_scaled, y_train, y_train_scaled = training_data\n",
    "data_train_read_raw, data_train_read_raw0                    = raw_data\n",
    "eps, nData, time_point                                       = parameters\n",
    "\n",
    "plot_train_data(data_train, x_train_scaled, y_train_scaled, titles, MeasureType, Obj_filename, unc_params)"
   ]
  },
  {
   "cell_type": "code",
   "execution_count": null,
   "metadata": {},
   "outputs": [],
   "source": [
    "## Step 3: 10-fold cross-validation of ROMs (iff ROMS_validation=1)\n",
    "## Step 4: Construct the Mars ROMs for data and response of interest\n",
    "ROM_data, ROM_obj = rom_validation(ROMs_validation, Ridge(), Ridge(), x_train_scaled, y_train, data_train, nTrain, nData, data_train_read_raw, NN=False)"
   ]
  },
  {
   "cell_type": "code",
   "execution_count": null,
   "metadata": {},
   "outputs": [],
   "source": [
    "## Step 5: Generate Monte Carlo(MC) samples\n",
    "np.random.seed(787878)\n",
    "mc_design = np.random.rand(nMCSamples, nParam)\n",
    "mc_design = mc_design*2 - 1\n",
    "print('Generate Monte Carlo samples: Done!')\n",
    "\n",
    "## Step 6: Evaluate the MC samples using the built ROMs for data points/objs\n",
    "mc_data, mc_obj = evaluate_MC_with_ROM(ROM_data, ROM_obj, data_train_read_raw, mc_design, nData, nMCSamples)"
   ]
  },
  {
   "cell_type": "code",
   "execution_count": null,
   "metadata": {},
   "outputs": [],
   "source": [
    "## Step 7: Calculate posterior distribution and uncertainty reduction\n",
    "prior_mean, prior_p90mp10, synthetic_data, results = uncertainty_reduction(mc_obj, mc_data, ROM_data, data_train_read_raw, MeasureType,\n",
    "                                                                            nData, nDataRealization, nParam, nColumn_data, \n",
    "                                                                            x_min, x_max, eps, err_option, time_sensitivity)\n",
    "\n",
    "post_p90mp10_mean, post_p90mp10_time, post_p90mp10_iData, post_mean, post_mean_iData, nSamples, mc_obj_post = results"
   ]
  },
  {
   "cell_type": "code",
   "execution_count": null,
   "metadata": {},
   "outputs": [],
   "source": [
    "## Step 8: Post-processing\n",
    "make_post_processing(post_processing, results, synthetic_data, mc_obj, prior_p90mp10, data_train_read_raw0, time_point, Total_time, nDataRealization, nMCSamples, nColumn_data, nTimeSeries)"
   ]
  },
  {
   "attachments": {},
   "cell_type": "markdown",
   "metadata": {},
   "source": [
    "***\n",
    "# END"
   ]
  }
 ],
 "metadata": {
  "kernelspec": {
   "display_name": "Python 3",
   "language": "python",
   "name": "python3"
  },
  "language_info": {
   "codemirror_mode": {
    "name": "ipython",
    "version": 3
   },
   "file_extension": ".py",
   "mimetype": "text/x-python",
   "name": "python",
   "nbconvert_exporter": "python",
   "pygments_lexer": "ipython3",
   "version": "3.6.13"
  },
  "orig_nbformat": 4
 },
 "nbformat": 4,
 "nbformat_minor": 2
}
